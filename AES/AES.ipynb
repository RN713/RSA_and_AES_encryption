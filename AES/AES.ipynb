{
 "cells": [
  {
   "cell_type": "code",
   "execution_count": 1,
   "id": "4e6da77f",
   "metadata": {},
   "outputs": [],
   "source": []
  },
  {
   "cell_type": "code",
   "execution_count": null,
   "id": "3566c50a",
   "metadata": {},
   "outputs": [],
   "source": [
    "!pip install pycryptodome"
   ]
  },
  {
   "cell_type": "markdown",
   "id": "dcad6dfc",
   "metadata": {},
   "source": [
    "# Encryption"
   ]
  },
  {
   "cell_type": "code",
   "execution_count": 4,
   "id": "07a8dd24",
   "metadata": {},
   "outputs": [
    {
     "name": "stdout",
     "output_type": "stream",
     "text": [
      "Ciphertext: b\"\\x13'\\xdfH\\xa1\\xbc\\x1e\\xe9\\xa3\\x99\\xc5\\x08\\xa1\\xa1\\xdfn\"\n"
     ]
    }
   ],
   "source": [
    "from Crypto.Cipher import AES\n",
    "from Crypto.Util.Padding import pad\n",
    "\n",
    "key = b'09865rfqghlafgtz78nafg3q'  # 24 bytes key\n",
    "iv = b'0123456789abcdef'  # 16 bytes IV\n",
    "\n",
    "# Write the message that needs to be encrypted\n",
    "plaintext = \"886AD\"\n",
    "\n",
    "cipher = AES.new(key, AES.MODE_CBC, iv)\n",
    "padded_plaintext = pad(plaintext.encode(), AES.block_size)\n",
    "ciphertext = cipher.encrypt(padded_plaintext)\n",
    "\n",
    "print(\"Ciphertext:\", ciphertext)"
   ]
  },
  {
   "cell_type": "markdown",
   "id": "b168a5b8",
   "metadata": {},
   "source": [
    "# decryption"
   ]
  },
  {
   "cell_type": "code",
   "execution_count": 5,
   "id": "7f5d10b0",
   "metadata": {},
   "outputs": [
    {
     "name": "stdout",
     "output_type": "stream",
     "text": [
      "Plaintext: 886AD\n"
     ]
    }
   ],
   "source": [
    "from Crypto.Cipher import AES\n",
    "from Crypto.Util.Padding import unpad\n",
    "\n",
    "key = b'09865rfqghlafgtz78nafg3q'  # 24 bytes key\n",
    "iv = b'0123456789abcdef'  # 16 bytes IV\n",
    "\n",
    "ciphertext = b\"\\x13'\\xdfH\\xa1\\xbc\\x1e\\xe9\\xa3\\x99\\xc5\\x08\\xa1\\xa1\\xdfn\"\n",
    "\n",
    "cipher = AES.new(key, AES.MODE_CBC, iv)\n",
    "decrypted_data = cipher.decrypt(ciphertext)\n",
    "plaintext = unpad(decrypted_data, AES.block_size)\n",
    "\n",
    "print(\"Plaintext:\", plaintext.decode())"
   ]
  },
  {
   "cell_type": "code",
   "execution_count": null,
   "id": "43b79e7d",
   "metadata": {},
   "outputs": [],
   "source": []
  }
 ],
 "metadata": {
  "kernelspec": {
   "display_name": "Python 3 (ipykernel)",
   "language": "python",
   "name": "python3"
  },
  "language_info": {
   "codemirror_mode": {
    "name": "ipython",
    "version": 3
   },
   "file_extension": ".py",
   "mimetype": "text/x-python",
   "name": "python",
   "nbconvert_exporter": "python",
   "pygments_lexer": "ipython3",
   "version": "3.11.5"
  }
 },
 "nbformat": 4,
 "nbformat_minor": 5
}
